{
  "nbformat": 4,
  "nbformat_minor": 0,
  "metadata": {
    "colab": {
      "provenance": [],
      "gpuType": "T4"
    },
    "kernelspec": {
      "name": "python3",
      "display_name": "Python 3"
    },
    "language_info": {
      "name": "python"
    },
    "accelerator": "GPU"
  },
  "cells": [
    {
      "cell_type": "code",
      "execution_count": 96,
      "metadata": {
        "id": "203ZqPgSChfP"
      },
      "outputs": [],
      "source": [
        "import os\n",
        "import cv2\n",
        "import numpy as np\n",
        "import torch\n",
        "import torch.nn as nn\n",
        "import torch.optim as optim\n",
        "import pandas as pd\n",
        "import pickle\n",
        "import seaborn as sns\n",
        "import matplotlib.pyplot as plt\n",
        "from torchvision import transforms\n",
        "from transformers import ViTModel, ViTFeatureExtractor\n",
        "from sklearn.metrics import accuracy_score, f1_score, confusion_matrix\n",
        "from torch.utils.data import Dataset, DataLoader\n",
        "from tqdm import tqdm"
      ]
    },
    {
      "cell_type": "code",
      "source": [
        "seed = 42\n",
        "np.random.seed(seed)\n",
        "torch.manual_seed(seed)\n",
        "torch.cuda.manual_seed_all(seed)\n",
        "torch.backends.cudnn.deterministic = True\n",
        "torch.backends.cudnn.benchmark = False\n"
      ],
      "metadata": {
        "id": "Be2BpCkSCv9D"
      },
      "execution_count": 97,
      "outputs": []
    },
    {
      "cell_type": "code",
      "source": [
        "class FeatureDataset(Dataset):\n",
        "    def __init__(self, feature_file):\n",
        "        with open(feature_file, \"rb\") as f:\n",
        "            self.data = pickle.load(f)\n",
        "        self.video_names = list(self.data.keys())  # Store actual video names\n",
        "        self.features = [torch.tensor(item[0], dtype=torch.float32) for item in self.data.values()]\n",
        "        self.labels = [torch.tensor(item[1], dtype=torch.long) for item in self.data.values()]\n",
        "\n",
        "    def __len__(self):\n",
        "        return len(self.features)\n",
        "\n",
        "    def __getitem__(self, idx):\n",
        "        return self.features[idx], self.labels[idx], self.video_names[idx]  # Retur"
      ],
      "metadata": {
        "id": "Ev9q7WgICwau"
      },
      "execution_count": 98,
      "outputs": []
    },
    {
      "cell_type": "code",
      "source": [
        "feature_extractor = ViTFeatureExtractor.from_pretrained(\"google/vit-base-patch16-224-in21k\")\n",
        "vit_model = ViTModel.from_pretrained(\"google/vit-base-patch16-224-in21k\").to(\"cuda\")\n",
        "\n",
        "# Function to extract and save features\n",
        "def extract_features(video_folder, label,save_path, transform, frames_per_video=10,test_data=True):\n",
        "    features_dict = {}\n",
        "    videos = [os.path.join(video_folder, f) for f in os.listdir(video_folder)]\n",
        "    with torch.no_grad():\n",
        "        for video_path in tqdm(videos):\n",
        "            video_name = os.path.basename(video_path)  # Get video filename\n",
        "            cap = cv2.VideoCapture(video_path)\n",
        "            frames = []\n",
        "            total_frames = int(cap.get(cv2.CAP_PROP_FRAME_COUNT))\n",
        "\n",
        "            for _ in range(frames_per_video):\n",
        "                frame_idx = np.random.randint(0, total_frames)\n",
        "                cap.set(cv2.CAP_PROP_POS_FRAMES, frame_idx)\n",
        "                ret, frame = cap.read()\n",
        "                if ret:\n",
        "                    frame = cv2.cvtColor(frame, cv2.COLOR_BGR2RGB)\n",
        "                    frame = transform(frame)\n",
        "                    frames.append(frame)\n",
        "            cap.release()\n",
        "\n",
        "            if len(frames) < frames_per_video:\n",
        "                frames.extend([frames[-1]] * (frames_per_video - len(frames)))  # Repeat last frame if needed\n",
        "\n",
        "            frames_tensor = torch.stack(frames).to(\"cuda\")\n",
        "            features = vit_model(frames_tensor.flatten(0,1))[\"last_hidden_state\"][:, 0, :]\n",
        "            features_dict[video_name] = (features.cpu().numpy(), label)  # Store video name\n",
        "\n",
        "    with open(save_path, \"wb\") as f:\n",
        "        pickle.dump(features_dict, f)\n",
        "    if(test_data==True):\n",
        "        with open(\"test_features.pkl\", \"rb\") as f:\n",
        "            test_features = pickle.load(f)\n",
        "\n",
        "        # Load actual video filenames in order\n",
        "        test_videos = sorted(os.listdir(\"/content/drive/MyDrive/Dataset/Test/Brawl_test\")) + sorted(os.listdir(\"/content/drive/MyDrive/Dataset/Test/Peace_test\"))\n",
        "\n",
        "        # Ensure video count matches features count\n",
        "        assert len(test_videos) == len(test_features), \"Mismatch between video count and stored features!\"\n",
        "\n",
        "        # Manually assign correct names\n",
        "        video_mapping = {idx: test_videos[idx] for idx in range(len(test_videos))}\n",
        "\n",
        "        # Replace numeric keys with filenames\n",
        "        corrected_features = {video_mapping[idx]: value for idx, value in test_features.items()}\n",
        "\n",
        "        # Save corrected test features\n",
        "        with open(\"test_features_corrected.pkl\", \"wb\") as f:\n",
        "            pickle.dump(corrected_features, f)\n",
        "\n",
        "        print(\"Corrected test_features.pkl saved with video names!\")\n",
        "\n",
        "# Extract and save features only if they don't exist\n",
        "if not os.path.exists(\"train_features.pkl\"):\n",
        "    extract_features(\"dataset/Brawl\", 1, \"train_features.pkl\", transforms.Compose([\n",
        "        transforms.ToPILImage(),\n",
        "        transforms.Resize((224, 224)),\n",
        "        transforms.ToTensor()\n",
        "    ]))\n",
        "    extract_features(\"dataset/Peace\", 0, \"train_features.pkl\", transforms.Compose([\n",
        "        transforms.ToPILImage(),\n",
        "        transforms.Resize((224, 224)),\n",
        "        transforms.ToTensor()\n",
        "    ]))\n",
        "\n",
        "if not os.path.exists(\"test_features_corrected.pkl\"):\n",
        "    extract_features(\"test/Brawl\", 1, \"test_features.pkl\", transforms.Compose([\n",
        "        transforms.ToPILImage(),\n",
        "        transforms.Resize((224, 224)),\n",
        "        transforms.ToTensor()\n",
        "    ]),test_data=True)\n",
        "    extract_features(\"test/Peace\", 0, \"test_features.pkl\", transforms.Compose([\n",
        "        transforms.ToPILImage(),\n",
        "        transforms.Resize((224, 224)),\n",
        "        transforms.ToTensor()\n",
        "    ],test_data=True))\n",
        "\n",
        "# Load datasets\n",
        "dataset_train = FeatureDataset(\"train_features.pkl\")\n",
        "dataset_test = FeatureDataset(\"test_features_corrected.pkl\")"
      ],
      "metadata": {
        "colab": {
          "base_uri": "https://localhost:8080/"
        },
        "id": "04WhRiX_DPJR",
        "outputId": "9a194fe1-7f05-4e86-dac6-572c0304a4f6"
      },
      "execution_count": 99,
      "outputs": [
        {
          "output_type": "stream",
          "name": "stderr",
          "text": [
            "/usr/local/lib/python3.11/dist-packages/transformers/models/vit/feature_extraction_vit.py:28: FutureWarning: The class ViTFeatureExtractor is deprecated and will be removed in version 5 of Transformers. Please use ViTImageProcessor instead.\n",
            "  warnings.warn(\n"
          ]
        }
      ]
    },
    {
      "cell_type": "code",
      "source": [
        "# Ensure DataLoader workers have a fixed seed\n",
        "def seed_worker(worker_id):\n",
        "    np.random.seed(seed)\n",
        "    torch.manual_seed(seed)\n",
        "\n",
        "g = torch.Generator()\n",
        "g.manual_seed(seed)\n",
        "\n",
        "train_loader = DataLoader(dataset_train, batch_size=8, shuffle=True, worker_init_fn=seed_worker, generator=g)\n",
        "test_loader = DataLoader(dataset_test, batch_size=8, shuffle=False, worker_init_fn=seed_worker, generator=g)"
      ],
      "metadata": {
        "id": "E79nGQ2-Dc39"
      },
      "execution_count": 100,
      "outputs": []
    },
    {
      "cell_type": "code",
      "source": [
        "# BiLSTM Model\n",
        "class BiLSTMClassifier(nn.Module):\n",
        "    def __init__(self, input_dim=768, hidden_dim=256, output_dim=2):\n",
        "        super(BiLSTMClassifier, self).__init__()\n",
        "        self.lstm = nn.LSTM(input_dim, hidden_dim, batch_first=True, bidirectional=True)\n",
        "        self.fc = nn.Linear(hidden_dim * 2, output_dim)\n",
        "\n",
        "    def forward(self, x):\n",
        "        _, (hidden, _) = self.lstm(x)\n",
        "        hidden = torch.cat((hidden[-2, :, :], hidden[-1, :, :]), dim=1)\n",
        "        return self.fc(hidden)\n"
      ],
      "metadata": {
        "id": "lWdWwDI0DdQ0"
      },
      "execution_count": 101,
      "outputs": []
    },
    {
      "cell_type": "code",
      "source": [
        "# Load trained model\n",
        "model = BiLSTMClassifier().to(\"cuda\")\n",
        "criterion = nn.CrossEntropyLoss()\n",
        "optimizer = optim.Adam(model.parameters(), lr=0.001)"
      ],
      "metadata": {
        "id": "Ynm9OfKjDljz"
      },
      "execution_count": 102,
      "outputs": []
    },
    {
      "cell_type": "code",
      "source": [
        "# Training\n",
        "for epoch in range(10):\n",
        "    model.train()\n",
        "    for features, labels, _ in tqdm(train_loader):\n",
        "        features, labels = features.to(\"cuda\"), labels.to(\"cuda\")\n",
        "\n",
        "        optimizer.zero_grad()\n",
        "        outputs = model(features)\n",
        "        loss = criterion(outputs, labels)\n",
        "        loss.backward()\n",
        "        optimizer.step()\n",
        "    print(f\"Epoch {epoch+1}, Loss: {loss.item()}\")\n"
      ],
      "metadata": {
        "colab": {
          "base_uri": "https://localhost:8080/"
        },
        "id": "2WtH3Qi9DuQe",
        "outputId": "c38929dc-17e5-43f3-8662-77b1a4abe162"
      },
      "execution_count": 103,
      "outputs": [
        {
          "output_type": "stream",
          "name": "stderr",
          "text": [
            "100%|██████████| 200/200 [00:00<00:00, 284.41it/s]\n"
          ]
        },
        {
          "output_type": "stream",
          "name": "stdout",
          "text": [
            "Epoch 1, Loss: 0.014240346848964691\n"
          ]
        },
        {
          "output_type": "stream",
          "name": "stderr",
          "text": [
            "100%|██████████| 200/200 [00:00<00:00, 285.28it/s]\n"
          ]
        },
        {
          "output_type": "stream",
          "name": "stdout",
          "text": [
            "Epoch 2, Loss: 0.04164709150791168\n"
          ]
        },
        {
          "output_type": "stream",
          "name": "stderr",
          "text": [
            "100%|██████████| 200/200 [00:00<00:00, 291.79it/s]\n"
          ]
        },
        {
          "output_type": "stream",
          "name": "stdout",
          "text": [
            "Epoch 3, Loss: 0.05074911564588547\n"
          ]
        },
        {
          "output_type": "stream",
          "name": "stderr",
          "text": [
            "100%|██████████| 200/200 [00:00<00:00, 294.41it/s]\n"
          ]
        },
        {
          "output_type": "stream",
          "name": "stdout",
          "text": [
            "Epoch 4, Loss: 0.012126734480261803\n"
          ]
        },
        {
          "output_type": "stream",
          "name": "stderr",
          "text": [
            "100%|██████████| 200/200 [00:00<00:00, 285.93it/s]\n"
          ]
        },
        {
          "output_type": "stream",
          "name": "stdout",
          "text": [
            "Epoch 5, Loss: 0.0006554242572747171\n"
          ]
        },
        {
          "output_type": "stream",
          "name": "stderr",
          "text": [
            "100%|██████████| 200/200 [00:00<00:00, 290.00it/s]\n"
          ]
        },
        {
          "output_type": "stream",
          "name": "stdout",
          "text": [
            "Epoch 6, Loss: 0.012302071787416935\n"
          ]
        },
        {
          "output_type": "stream",
          "name": "stderr",
          "text": [
            "100%|██████████| 200/200 [00:00<00:00, 293.45it/s]\n"
          ]
        },
        {
          "output_type": "stream",
          "name": "stdout",
          "text": [
            "Epoch 7, Loss: 0.0033094934187829494\n"
          ]
        },
        {
          "output_type": "stream",
          "name": "stderr",
          "text": [
            "100%|██████████| 200/200 [00:00<00:00, 289.74it/s]\n"
          ]
        },
        {
          "output_type": "stream",
          "name": "stdout",
          "text": [
            "Epoch 8, Loss: 3.0069528293097392e-05\n"
          ]
        },
        {
          "output_type": "stream",
          "name": "stderr",
          "text": [
            "100%|██████████| 200/200 [00:00<00:00, 285.43it/s]\n"
          ]
        },
        {
          "output_type": "stream",
          "name": "stdout",
          "text": [
            "Epoch 9, Loss: 1.965420597116463e-05\n"
          ]
        },
        {
          "output_type": "stream",
          "name": "stderr",
          "text": [
            "100%|██████████| 200/200 [00:00<00:00, 292.47it/s]"
          ]
        },
        {
          "output_type": "stream",
          "name": "stdout",
          "text": [
            "Epoch 10, Loss: 0.004123910330235958\n"
          ]
        },
        {
          "output_type": "stream",
          "name": "stderr",
          "text": [
            "\n"
          ]
        }
      ]
    },
    {
      "cell_type": "code",
      "source": [
        "# Evaluation and saving predictions\n",
        "model.eval()\n",
        "y_true, y_pred = [], []\n",
        "predictions_list = []\n",
        "\n",
        "with torch.no_grad():\n",
        "    for features, labels, video_names in tqdm(test_loader):\n",
        "        features = features.to(\"cuda\")\n",
        "        outputs = model(features)\n",
        "        predictions = torch.argmax(outputs, dim=1).cpu().numpy()\n",
        "\n",
        "        y_true.extend(labels.numpy())\n",
        "        y_pred.extend(predictions)\n",
        "\n",
        "        # Save Video Name + Boolean Prediction\n",
        "        for video, pred in zip(video_names, predictions):\n",
        "            predictions_list.append({\"video_id\": video, \"brawl\": bool(pred)})\n",
        "\n",
        "# Compute metrics\n",
        "acc = accuracy_score(y_true, y_pred)\n",
        "f1 = f1_score(y_true, y_pred)\n",
        "print(f\"Test Accuracy: {acc:.4f}, F1 Score: {f1:.4f}\")\n",
        "\n",
        "# Save predictions to CSV (With Correct Video Names\n"
      ],
      "metadata": {
        "colab": {
          "base_uri": "https://localhost:8080/"
        },
        "id": "xKeKDs9fDuxh",
        "outputId": "47052269-805e-451e-924b-f8c402e99c43"
      },
      "execution_count": 104,
      "outputs": [
        {
          "output_type": "stream",
          "name": "stderr",
          "text": [
            "100%|██████████| 50/50 [00:00<00:00, 1024.83it/s]"
          ]
        },
        {
          "output_type": "stream",
          "name": "stdout",
          "text": [
            "Test Accuracy: 0.9475, F1 Score: 0.9479\n"
          ]
        },
        {
          "output_type": "stream",
          "name": "stderr",
          "text": [
            "\n"
          ]
        }
      ]
    },
    {
      "cell_type": "code",
      "source": [
        "# Save predictions to CSV (With Correct Video Names)\n",
        "predictions_df = pd.DataFrame(predictions_list)\n",
        "predictions_df.to_csv(\"predictions.csv\", index=False)\n",
        "print(\"Predictions saved to predictions.csv!\")\n"
      ],
      "metadata": {
        "colab": {
          "base_uri": "https://localhost:8080/"
        },
        "id": "XYfx1gPAd6mF",
        "outputId": "fee60b87-101b-492f-bc9d-dc2bd1151ebd"
      },
      "execution_count": 105,
      "outputs": [
        {
          "output_type": "stream",
          "name": "stdout",
          "text": [
            "Predictions saved to predictions.csv!\n"
          ]
        }
      ]
    },
    {
      "cell_type": "code",
      "source": [
        "# Confusion matrix\n",
        "cm = confusion_matrix(y_true, y_pred)\n",
        "plt.figure(figsize=(6, 6))\n",
        "sns.heatmap(cm, annot=True, fmt=\"d\", cmap=\"Blues\", xticklabels=[\"Peace\", \"Brawl\"], yticklabels=[\"Peace\", \"Brawl\"])\n",
        "plt.xlabel(\"Predicted\")\n",
        "plt.ylabel(\"Actual\")\n",
        "plt.title(\"Confusion Matrix\")\n",
        "plt.show()"
      ],
      "metadata": {
        "colab": {
          "base_uri": "https://localhost:8080/",
          "height": 564
        },
        "id": "dLJAnlfrD58b",
        "outputId": "9d066db0-ec97-4ebd-97d3-6033177fa9bc"
      },
      "execution_count": 106,
      "outputs": [
        {
          "output_type": "display_data",
          "data": {
            "text/plain": [
              "<Figure size 600x600 with 2 Axes>"
            ],
            "image/png": "[encoded data removed]"
          },
          "metadata": {}
        }
      ]
    }
  ]
}